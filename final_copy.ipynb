{
 "cells": [
  {
   "cell_type": "markdown",
   "metadata": {},
   "source": [
    "# oneEMITUniversity: Machine Learning in Python"
   ]
  },
  {
   "cell_type": "code",
   "execution_count": 6,
   "metadata": {},
   "outputs": [
    {
     "data": {
      "text/html": [
       "<script>\n",
       "code_show=true; \n",
       "function code_toggle() {\n",
       " if (code_show){\n",
       " $('div.text_cell').hide();\n",
       " } else {\n",
       " $('div.text_cell').show();\n",
       " }\n",
       " code_show = !code_show\n",
       "} \n",
       "$( document ).ready(code_toggle);\n",
       "</script>\n",
       "<form action=\"javascript:code_toggle()\"><input type=\"submit\" value=\"Click here to toggle the descriptions on/off.\"></form>"
      ],
      "text/plain": [
       "<IPython.core.display.HTML object>"
      ]
     },
     "execution_count": 6,
     "metadata": {},
     "output_type": "execute_result"
    }
   ],
   "source": [
    "from IPython.display import HTML\n",
    "\n",
    "HTML('''<script>\n",
    "code_show=true; \n",
    "function code_toggle() {\n",
    " if (code_show){\n",
    " $('div.text_cell').hide();\n",
    " } else {\n",
    " $('div.text_cell').show();\n",
    " }\n",
    " code_show = !code_show\n",
    "} \n",
    "$( document ).ready(code_toggle);\n",
    "</script>\n",
    "<form action=\"javascript:code_toggle()\"><input type=\"submit\" value=\"Click here to toggle the descriptions on/off.\"></form>''')"
   ]
  },
  {
   "cell_type": "markdown",
   "metadata": {},
   "source": [
    "## Agenda \n",
    "\n",
    "- Introduction to Jupyter Notebook Environment\n",
    "- Introduction to Pandas\n",
    "- Introduction to Scikit-learn and Toy Datasets\n",
    "- Machine Learning Example: Iris Dataset (K nearest neighbors)\n",
    "- Machine Learning Example: Movie Review Classification (Natural Language Processing)"
   ]
  },
  {
   "cell_type": "markdown",
   "metadata": {},
   "source": [
    "## Introduction to Jupyter Notebook\n",
    "\n",
    "- Jupyter Notebook is an interactive IDE. Here we are using it with python.\n",
    "- Cells with text in them are labeled Markdown. Cells with code in them are labeled Code. You can specify the label by using the pull down menu at the top. \n",
    "- All cells must be run and they must be run in order. If you get errors, go to 'Kernel' and select 'Restart & Run All.'\n",
    "- To run one cell at a time, select it and push the play button at the top ribbon. You can also select the cell and push 'Shift+Enter'\n",
    "- If you'd like to remove the textboxes so you can focus on the code, click the gray box above.\n",
    "- If you'd just like to follow along, open 'final_copy.ipynb'\n",
    "- If you'd like to write some of the code as we go, open 'student_copy.ipynb'"
   ]
  },
  {
   "cell_type": "markdown",
   "metadata": {},
   "source": [
    "## Introduction to Pandas"
   ]
  },
  {
   "cell_type": "markdown",
   "metadata": {},
   "source": [
    "We need data for our data science. Where can we get it? And once we have it, how do we manage it?\n",
    "\n",
    "### Managing Data\n",
    "Often, we'll wish to store our data in a tidy, clean dataframe structure. Rather than building this structure ourselves, we often leverage Pandas, \"a software library written for the Python programming language for data manipulation and analysis. In particular, it offers data structures and operations for manipulating numerical tables and time series.\" It is extremely useful and one of the most commonly used libraries in the data science world right now. Visit https://pandas.pydata.org/ for more information.\n",
    "\n",
    "Let's take a quick look at what Pandas has to offer us.\n"
   ]
  },
  {
   "cell_type": "code",
   "execution_count": 7,
   "metadata": {},
   "outputs": [],
   "source": [
    "# First, we import the relevant libraries.\n",
    "import pandas as pd\n",
    "import numpy as np"
   ]
  },
  {
   "cell_type": "markdown",
   "metadata": {},
   "source": [
    "### Getting your data #1: Create a dataframe from scratch.\n",
    "Let's create a new dataframe from scratch containing information about different animals."
   ]
  },
  {
   "cell_type": "code",
   "execution_count": 3,
   "metadata": {},
   "outputs": [
    {
     "name": "stdout",
     "output_type": "stream",
     "text": [
      "This is the original dataframe:\n"
     ]
    },
    {
     "data": {
      "text/html": [
       "<div>\n",
       "<style scoped>\n",
       "    .dataframe tbody tr th:only-of-type {\n",
       "        vertical-align: middle;\n",
       "    }\n",
       "\n",
       "    .dataframe tbody tr th {\n",
       "        vertical-align: top;\n",
       "    }\n",
       "\n",
       "    .dataframe thead th {\n",
       "        text-align: right;\n",
       "    }\n",
       "</style>\n",
       "<table border=\"1\" class=\"dataframe\">\n",
       "  <thead>\n",
       "    <tr style=\"text-align: right;\">\n",
       "      <th></th>\n",
       "      <th>Name</th>\n",
       "      <th>Color</th>\n",
       "      <th>Weight (lbs)</th>\n",
       "      <th>Species</th>\n",
       "    </tr>\n",
       "  </thead>\n",
       "  <tbody>\n",
       "    <tr>\n",
       "      <th>0</th>\n",
       "      <td>Snoopy</td>\n",
       "      <td>White</td>\n",
       "      <td>12</td>\n",
       "      <td>Dog</td>\n",
       "    </tr>\n",
       "    <tr>\n",
       "      <th>1</th>\n",
       "      <td>Mr. Business</td>\n",
       "      <td>Orange</td>\n",
       "      <td>6</td>\n",
       "      <td>Cat</td>\n",
       "    </tr>\n",
       "    <tr>\n",
       "      <th>2</th>\n",
       "      <td>Mr. Ed</td>\n",
       "      <td>Brown</td>\n",
       "      <td>1000</td>\n",
       "      <td>Horse</td>\n",
       "    </tr>\n",
       "    <tr>\n",
       "      <th>3</th>\n",
       "      <td>Cera</td>\n",
       "      <td>Gray</td>\n",
       "      <td>100</td>\n",
       "      <td>Triceratops</td>\n",
       "    </tr>\n",
       "    <tr>\n",
       "      <th>4</th>\n",
       "      <td>Lassie</td>\n",
       "      <td>Brown</td>\n",
       "      <td>20</td>\n",
       "      <td>Dog</td>\n",
       "    </tr>\n",
       "    <tr>\n",
       "      <th>5</th>\n",
       "      <td>Piglet</td>\n",
       "      <td>Pink</td>\n",
       "      <td>5</td>\n",
       "      <td>Pig</td>\n",
       "    </tr>\n",
       "    <tr>\n",
       "      <th>6</th>\n",
       "      <td>Marvin</td>\n",
       "      <td>Green</td>\n",
       "      <td>8</td>\n",
       "      <td>NaN</td>\n",
       "    </tr>\n",
       "  </tbody>\n",
       "</table>\n",
       "</div>"
      ],
      "text/plain": [
       "           Name   Color  Weight (lbs)      Species\n",
       "0        Snoopy   White            12          Dog\n",
       "1  Mr. Business  Orange             6          Cat\n",
       "2        Mr. Ed   Brown          1000        Horse\n",
       "3          Cera    Gray           100  Triceratops\n",
       "4        Lassie   Brown            20          Dog\n",
       "5        Piglet    Pink             5          Pig\n",
       "6        Marvin   Green             8          NaN"
      ]
     },
     "metadata": {},
     "output_type": "display_data"
    }
   ],
   "source": [
    "# Here is our information about our different animals.\n",
    "snoopy = ['Snoopy', 'White', 12,'Dog']\n",
    "mrbusiness = ['Mr. Business','Orange', 6, 'Cat']\n",
    "ed = ['Mr. Ed', 'Brown', 1000, 'Horse']\n",
    "cera = ['Cera', 'Gray', 100, 'Triceratops']\n",
    "lassie = ['Lassie','Brown', 20, 'Dog']\n",
    "piglet = ['Piglet', 'Pink', 5,'Pig']\n",
    "marvin = ['Marvin','Green',8, np.nan]\n",
    "\n",
    "# Here we create our dataframe using our animal data. We also specify what each column refers to.\n",
    "df = pd.DataFrame([snoopy, mrbusiness, ed, cera, lassie, piglet, marvin],columns=['Name','Color','Weight (lbs)','Species'])\n",
    "print('This is the original dataframe:')\n",
    "display(df)"
   ]
  },
  {
   "cell_type": "markdown",
   "metadata": {},
   "source": [
    "### Getting your data #2: Import a dataframe from an external file. \n",
    "More often than not, you'll be reading in data from an external file. Often, csv, xlsx, or text files. Pandas makes this extremely easy with their \"read_csv\" and \"read_excel\" functions. Let's try it below."
   ]
  },
  {
   "cell_type": "code",
   "execution_count": 4,
   "metadata": {},
   "outputs": [
    {
     "data": {
      "text/html": [
       "<div>\n",
       "<style scoped>\n",
       "    .dataframe tbody tr th:only-of-type {\n",
       "        vertical-align: middle;\n",
       "    }\n",
       "\n",
       "    .dataframe tbody tr th {\n",
       "        vertical-align: top;\n",
       "    }\n",
       "\n",
       "    .dataframe thead th {\n",
       "        text-align: right;\n",
       "    }\n",
       "</style>\n",
       "<table border=\"1\" class=\"dataframe\">\n",
       "  <thead>\n",
       "    <tr style=\"text-align: right;\">\n",
       "      <th></th>\n",
       "      <th>Name</th>\n",
       "      <th>Age</th>\n",
       "      <th>Location</th>\n",
       "    </tr>\n",
       "  </thead>\n",
       "  <tbody>\n",
       "    <tr>\n",
       "      <th>0</th>\n",
       "      <td>Albert</td>\n",
       "      <td>24</td>\n",
       "      <td>N1</td>\n",
       "    </tr>\n",
       "    <tr>\n",
       "      <th>1</th>\n",
       "      <td>Judy</td>\n",
       "      <td>30</td>\n",
       "      <td>N4</td>\n",
       "    </tr>\n",
       "    <tr>\n",
       "      <th>2</th>\n",
       "      <td>Tom</td>\n",
       "      <td>19</td>\n",
       "      <td>W3</td>\n",
       "    </tr>\n",
       "    <tr>\n",
       "      <th>3</th>\n",
       "      <td>Nancy</td>\n",
       "      <td>22</td>\n",
       "      <td>HL</td>\n",
       "    </tr>\n",
       "    <tr>\n",
       "      <th>4</th>\n",
       "      <td>Sid</td>\n",
       "      <td>27</td>\n",
       "      <td>S1</td>\n",
       "    </tr>\n",
       "  </tbody>\n",
       "</table>\n",
       "</div>"
      ],
      "text/plain": [
       "     Name  Age Location\n",
       "0  Albert   24       N1\n",
       "1    Judy   30       N4\n",
       "2     Tom   19       W3\n",
       "3   Nancy   22       HL\n",
       "4     Sid   27       S1"
      ]
     },
     "execution_count": 4,
     "metadata": {},
     "output_type": "execute_result"
    }
   ],
   "source": [
    "# You can also read in information from csv, xlsx, txt files\n",
    "excel_df = pd.read_excel('example_dataframe.xlsx')\n",
    "excel_df"
   ]
  },
  {
   "cell_type": "markdown",
   "metadata": {},
   "source": [
    "### Explore your data"
   ]
  },
  {
   "cell_type": "code",
   "execution_count": 206,
   "metadata": {},
   "outputs": [
    {
     "name": "stdout",
     "output_type": "stream",
     "text": [
      "Descriptive statistical summary of the dataframe:\n"
     ]
    },
    {
     "data": {
      "text/html": [
       "<div>\n",
       "<style scoped>\n",
       "    .dataframe tbody tr th:only-of-type {\n",
       "        vertical-align: middle;\n",
       "    }\n",
       "\n",
       "    .dataframe tbody tr th {\n",
       "        vertical-align: top;\n",
       "    }\n",
       "\n",
       "    .dataframe thead th {\n",
       "        text-align: right;\n",
       "    }\n",
       "</style>\n",
       "<table border=\"1\" class=\"dataframe\">\n",
       "  <thead>\n",
       "    <tr style=\"text-align: right;\">\n",
       "      <th></th>\n",
       "      <th>Weight (lbs)</th>\n",
       "    </tr>\n",
       "  </thead>\n",
       "  <tbody>\n",
       "    <tr>\n",
       "      <th>count</th>\n",
       "      <td>7.000000</td>\n",
       "    </tr>\n",
       "    <tr>\n",
       "      <th>mean</th>\n",
       "      <td>164.428571</td>\n",
       "    </tr>\n",
       "    <tr>\n",
       "      <th>std</th>\n",
       "      <td>370.002638</td>\n",
       "    </tr>\n",
       "    <tr>\n",
       "      <th>min</th>\n",
       "      <td>5.000000</td>\n",
       "    </tr>\n",
       "    <tr>\n",
       "      <th>25%</th>\n",
       "      <td>7.000000</td>\n",
       "    </tr>\n",
       "    <tr>\n",
       "      <th>50%</th>\n",
       "      <td>12.000000</td>\n",
       "    </tr>\n",
       "    <tr>\n",
       "      <th>75%</th>\n",
       "      <td>60.000000</td>\n",
       "    </tr>\n",
       "    <tr>\n",
       "      <th>max</th>\n",
       "      <td>1000.000000</td>\n",
       "    </tr>\n",
       "  </tbody>\n",
       "</table>\n",
       "</div>"
      ],
      "text/plain": [
       "       Weight (lbs)\n",
       "count      7.000000\n",
       "mean     164.428571\n",
       "std      370.002638\n",
       "min        5.000000\n",
       "25%        7.000000\n",
       "50%       12.000000\n",
       "75%       60.000000\n",
       "max     1000.000000"
      ]
     },
     "metadata": {},
     "output_type": "display_data"
    }
   ],
   "source": [
    "# Generates descriptive statistics that summarize the central tendency, \n",
    "# dispersion and shape of a dataset’s distribution, excluding NaN values.\n",
    "print('Descriptive statistical summary of the dataframe:')\n",
    "display(df.describe())"
   ]
  },
  {
   "cell_type": "code",
   "execution_count": 207,
   "metadata": {},
   "outputs": [
    {
     "name": "stdout",
     "output_type": "stream",
     "text": [
      "Shape of your dataframe: (7, 4)\n",
      "There are 7 rows.\n",
      "There are 4 columns.\n"
     ]
    }
   ],
   "source": [
    "# Verify the shape of the dataframe\n",
    "print('Shape of your dataframe: {}'.format(df.shape))\n",
    "print('There are {} rows.'.format(df.shape[0]))\n",
    "print('There are {} columns.'.format(df.shape[1]))"
   ]
  },
  {
   "cell_type": "code",
   "execution_count": 208,
   "metadata": {},
   "outputs": [
    {
     "name": "stdout",
     "output_type": "stream",
     "text": [
      "These are the first three rows of the original dataframe:\n"
     ]
    },
    {
     "data": {
      "text/html": [
       "<div>\n",
       "<style scoped>\n",
       "    .dataframe tbody tr th:only-of-type {\n",
       "        vertical-align: middle;\n",
       "    }\n",
       "\n",
       "    .dataframe tbody tr th {\n",
       "        vertical-align: top;\n",
       "    }\n",
       "\n",
       "    .dataframe thead th {\n",
       "        text-align: right;\n",
       "    }\n",
       "</style>\n",
       "<table border=\"1\" class=\"dataframe\">\n",
       "  <thead>\n",
       "    <tr style=\"text-align: right;\">\n",
       "      <th></th>\n",
       "      <th>Name</th>\n",
       "      <th>Color</th>\n",
       "      <th>Weight (lbs)</th>\n",
       "      <th>Species</th>\n",
       "    </tr>\n",
       "  </thead>\n",
       "  <tbody>\n",
       "    <tr>\n",
       "      <th>0</th>\n",
       "      <td>Snoopy</td>\n",
       "      <td>White</td>\n",
       "      <td>12</td>\n",
       "      <td>Dog</td>\n",
       "    </tr>\n",
       "    <tr>\n",
       "      <th>1</th>\n",
       "      <td>Mr. Business</td>\n",
       "      <td>Orange</td>\n",
       "      <td>6</td>\n",
       "      <td>Cat</td>\n",
       "    </tr>\n",
       "    <tr>\n",
       "      <th>2</th>\n",
       "      <td>Mr. Ed</td>\n",
       "      <td>Brown</td>\n",
       "      <td>1000</td>\n",
       "      <td>Horse</td>\n",
       "    </tr>\n",
       "  </tbody>\n",
       "</table>\n",
       "</div>"
      ],
      "text/plain": [
       "           Name   Color  Weight (lbs) Species\n",
       "0        Snoopy   White            12     Dog\n",
       "1  Mr. Business  Orange             6     Cat\n",
       "2        Mr. Ed   Brown          1000   Horse"
      ]
     },
     "metadata": {},
     "output_type": "display_data"
    },
    {
     "name": "stdout",
     "output_type": "stream",
     "text": [
      "These are the last three rows of the original dataframe:\n"
     ]
    },
    {
     "data": {
      "text/html": [
       "<div>\n",
       "<style scoped>\n",
       "    .dataframe tbody tr th:only-of-type {\n",
       "        vertical-align: middle;\n",
       "    }\n",
       "\n",
       "    .dataframe tbody tr th {\n",
       "        vertical-align: top;\n",
       "    }\n",
       "\n",
       "    .dataframe thead th {\n",
       "        text-align: right;\n",
       "    }\n",
       "</style>\n",
       "<table border=\"1\" class=\"dataframe\">\n",
       "  <thead>\n",
       "    <tr style=\"text-align: right;\">\n",
       "      <th></th>\n",
       "      <th>Name</th>\n",
       "      <th>Color</th>\n",
       "      <th>Weight (lbs)</th>\n",
       "      <th>Species</th>\n",
       "    </tr>\n",
       "  </thead>\n",
       "  <tbody>\n",
       "    <tr>\n",
       "      <th>4</th>\n",
       "      <td>Lassie</td>\n",
       "      <td>Brown</td>\n",
       "      <td>20</td>\n",
       "      <td>Dog</td>\n",
       "    </tr>\n",
       "    <tr>\n",
       "      <th>5</th>\n",
       "      <td>Piglet</td>\n",
       "      <td>Pink</td>\n",
       "      <td>5</td>\n",
       "      <td>Pig</td>\n",
       "    </tr>\n",
       "    <tr>\n",
       "      <th>6</th>\n",
       "      <td>Marvin</td>\n",
       "      <td>Green</td>\n",
       "      <td>8</td>\n",
       "      <td>NaN</td>\n",
       "    </tr>\n",
       "  </tbody>\n",
       "</table>\n",
       "</div>"
      ],
      "text/plain": [
       "     Name  Color  Weight (lbs) Species\n",
       "4  Lassie  Brown            20     Dog\n",
       "5  Piglet   Pink             5     Pig\n",
       "6  Marvin  Green             8     NaN"
      ]
     },
     "metadata": {},
     "output_type": "display_data"
    }
   ],
   "source": [
    "# Look at the first 3 rows\n",
    "print('These are the first three rows of the original dataframe:')\n",
    "display(df.head(3))\n",
    "\n",
    "# Look at the last 3 rows\n",
    "print('These are the last three rows of the original dataframe:')\n",
    "display(df.tail(3))"
   ]
  },
  {
   "cell_type": "code",
   "execution_count": 209,
   "metadata": {},
   "outputs": [
    {
     "name": "stdout",
     "output_type": "stream",
     "text": [
      "Grab only the rows that where color is brown.\n"
     ]
    },
    {
     "data": {
      "text/html": [
       "<div>\n",
       "<style scoped>\n",
       "    .dataframe tbody tr th:only-of-type {\n",
       "        vertical-align: middle;\n",
       "    }\n",
       "\n",
       "    .dataframe tbody tr th {\n",
       "        vertical-align: top;\n",
       "    }\n",
       "\n",
       "    .dataframe thead th {\n",
       "        text-align: right;\n",
       "    }\n",
       "</style>\n",
       "<table border=\"1\" class=\"dataframe\">\n",
       "  <thead>\n",
       "    <tr style=\"text-align: right;\">\n",
       "      <th></th>\n",
       "      <th>Name</th>\n",
       "      <th>Color</th>\n",
       "      <th>Weight (lbs)</th>\n",
       "      <th>Species</th>\n",
       "    </tr>\n",
       "  </thead>\n",
       "  <tbody>\n",
       "    <tr>\n",
       "      <th>2</th>\n",
       "      <td>Mr. Ed</td>\n",
       "      <td>Brown</td>\n",
       "      <td>1000</td>\n",
       "      <td>Horse</td>\n",
       "    </tr>\n",
       "    <tr>\n",
       "      <th>4</th>\n",
       "      <td>Lassie</td>\n",
       "      <td>Brown</td>\n",
       "      <td>20</td>\n",
       "      <td>Dog</td>\n",
       "    </tr>\n",
       "  </tbody>\n",
       "</table>\n",
       "</div>"
      ],
      "text/plain": [
       "     Name  Color  Weight (lbs) Species\n",
       "2  Mr. Ed  Brown          1000   Horse\n",
       "4  Lassie  Brown            20     Dog"
      ]
     },
     "metadata": {},
     "output_type": "display_data"
    }
   ],
   "source": [
    "# look at a subset of your dataframe\n",
    "print('Grab only the rows that where color is brown.')\n",
    "display(df[df['Color'] == 'Brown'])"
   ]
  },
  {
   "cell_type": "code",
   "execution_count": 210,
   "metadata": {},
   "outputs": [
    {
     "name": "stdout",
     "output_type": "stream",
     "text": [
      "How many of each value are there in the Species column?\n"
     ]
    },
    {
     "data": {
      "text/plain": [
       "Dog            2\n",
       "Pig            1\n",
       "Horse          1\n",
       "Cat            1\n",
       "Triceratops    1\n",
       "Name: Species, dtype: int64"
      ]
     },
     "metadata": {},
     "output_type": "display_data"
    }
   ],
   "source": [
    "# count the values in a certain column\n",
    "print('How many of each value are there in the Species column?')\n",
    "display(df['Species'].value_counts())"
   ]
  },
  {
   "cell_type": "code",
   "execution_count": 211,
   "metadata": {},
   "outputs": [
    {
     "name": "stdout",
     "output_type": "stream",
     "text": [
      "Check how many null values are in each column\n"
     ]
    },
    {
     "data": {
      "text/plain": [
       "Name            0\n",
       "Color           0\n",
       "Weight (lbs)    0\n",
       "Species         1\n",
       "dtype: int64"
      ]
     },
     "metadata": {},
     "output_type": "display_data"
    }
   ],
   "source": [
    "# see if any values are null\n",
    "print('Check how many null values are in each column')\n",
    "display(df.isnull().sum())"
   ]
  },
  {
   "cell_type": "markdown",
   "metadata": {},
   "source": [
    "## Introduction to Scikit-learn and Toy Datasets"
   ]
  },
  {
   "cell_type": "markdown",
   "metadata": {},
   "source": [
    "### Scikit-learn\n",
    "If you'd like, you can write all your own machine learning algorithms from scratch. However, most people leverage algorithms that have already been written by taking advantage of python's many different data science libraries. One such library is Scikit-learn. \"Scikit-learn is a free software machine learning library for the Python programming language. It features various classification, regression and clustering algorithms including support vector machines, random forests, gradient boosting, and k-means.\" Visit http://scikit-learn.org/stable/index.html for more information."
   ]
  },
  {
   "cell_type": "markdown",
   "metadata": {},
   "source": [
    "### Getting your data #3: Work with one of sklearn's toy datasets for a super quick start."
   ]
  },
  {
   "cell_type": "markdown",
   "metadata": {},
   "source": [
    "Another way to get started very quickly on your very own data science project is to leverage one of scikit-learn's toy datasets. See below for the full list. These standard datasets do not require you to download any file from some external website. While these datasets are useful for quickly testing the behavior of the various algorithms implemented in the scikit, they are often too small to be representative of real world machine learning tasks. Visit http://scikit-learn.org/stable/datasets/index.html for more information.\n",
    "\n",
    "- load_boston():\tLoad and return the boston house-prices dataset (regression).\n",
    "- load_iris():\tLoad and return the iris dataset (classification).\n",
    "- load_diabetes():\tLoad and return the diabetes dataset (regression).\n",
    "- load_digits():\tLoad and return the digits dataset (classification).\n",
    "- load_linnerud():\tLoad and return the linnerud dataset (multivariate regression).\n",
    "- load_wine():\tLoad and return the wine dataset (classification).\n",
    "- load_breast_cancer():\tLoad and return the breast cancer wisconsin dataset (classification).\n",
    "- load_sample_images():\tLoad sample images for image manipulation.\n",
    "\n"
   ]
  },
  {
   "cell_type": "markdown",
   "metadata": {},
   "source": [
    "## These datasets allow us to experiment with many different types of analysis. Let's explore classification first.\n",
    "\n",
    "### What is classification?\n",
    "\n",
    "As humans, we use classification all the time. When you sort your laundry, you look for certain characteristics of each item to let you know whether you're holding a shirt, a pair of pants, socks, a dress, etc. With classification algorithms, we try to teach the machine to do the same.\n",
    "\n",
    "Classification is the task of choosing the correct class label for a given input. With these algorithms, you take an existing dataset and use what you know about it to generate a predictive model for the classification of future data points. In basic classification tasks, the set of labels is known in advance. Some examples of classification tasks are:\n",
    "- Is an email is spam or not?\n",
    "- Which topic does a news article discuss: \"sports,\" \"technology,\" or \"politics?\" \n",
    "- Is Marvin a dog, cat, horse, or martian?\n",
    "\n",
    "\n",
    "## Let's try our own classification problem.\n",
    "\n",
    "\n"
   ]
  },
  {
   "cell_type": "markdown",
   "metadata": {},
   "source": [
    "### The Iris Dataset"
   ]
  },
  {
   "cell_type": "markdown",
   "metadata": {},
   "source": [
    "This example follows https://github.com/amueller/introduction_to_ml_with_python/blob/master/01-introduction.ipynb.\n",
    "\n",
    "Let's perform a classification problem using one of the toy datasets: the Iris dataset. The iris data set contains information about 3 different species of iris flowers and each species is represented by 50 examples. This gives us a total of 150 data points, each representing a unique iris flower. \n",
    "\n",
    "Each row of the dataset contains 4 pieces of information about each flower, namely its:\n",
    "\n",
    "1. sepal length in cm \n",
    "2. sepal width in cm \n",
    "3. petal length in cm \n",
    "4. petal width in cm "
   ]
  },
  {
   "cell_type": "markdown",
   "metadata": {},
   "source": [
    "#### Flower Education Break for the non-botanists in the room:"
   ]
  },
  {
   "cell_type": "markdown",
   "metadata": {},
   "source": [
    "<img src='https://www.wpclipart.com/plants/diagrams/plant_parts/petal_sepal_label.png',width=200,height=200>"
   ]
  },
  {
   "cell_type": "markdown",
   "metadata": {},
   "source": [
    "Let's see if we can identify what species a random iris is based only on these few physical characteristics (length and width of their petal and of their sepal).\n",
    "\n",
    "#### What we want to predict: \n",
    "    - species of iris plant. \n",
    "\n",
    "#### What we know: \n",
    "1. sepal length in cm \n",
    "2. sepal width in cm \n",
    "3. petal length in cm \n",
    "4. petal width in cm \n",
    "\n",
    "#### Based on this, can we predict the classification of other iris flowers? Let's find out.\n"
   ]
  },
  {
   "cell_type": "markdown",
   "metadata": {},
   "source": [
    "### First let's load in and explore the iris dataset."
   ]
  },
  {
   "cell_type": "code",
   "execution_count": 172,
   "metadata": {},
   "outputs": [
    {
     "name": "stdout",
     "output_type": "stream",
     "text": [
      "What's contained in the iris_dataset?\n",
      "Keys of iris_dataset: dict_keys(['data', 'target', 'target_names', 'DESCR', 'feature_names'])\n"
     ]
    }
   ],
   "source": [
    "# First let's load the dataset\n",
    "from sklearn.datasets import load_iris\n",
    "iris_dataset = load_iris()\n",
    "\n",
    "# These toy datasets have a  little bit of a unique format. Let's explore it briefly.\n",
    "print(\"What's contained in the iris_dataset?\")\n",
    "print(\"Keys of iris_dataset: {}\".format(iris_dataset.keys()))"
   ]
  },
  {
   "cell_type": "code",
   "execution_count": 212,
   "metadata": {
    "scrolled": false
   },
   "outputs": [
    {
     "name": "stdout",
     "output_type": "stream",
     "text": [
      "Type of 'data' data: <class 'numpy.ndarray'>\n",
      "Type of 'target' data: <class 'numpy.ndarray'>\n",
      "Type of 'target_names' data: <class 'numpy.ndarray'>\n",
      "Type of 'DESCR' data: <class 'str'>\n",
      "Type of 'feature_names' data: <class 'list'>\n"
     ]
    }
   ],
   "source": [
    "# Find out the different types of each piece of information.\n",
    "print(\"Type of 'data' data: {}\".format(type(iris_dataset['data'])))\n",
    "print(\"Type of 'target' data: {}\".format(type(iris_dataset['target'])))\n",
    "print(\"Type of 'target_names' data: {}\".format(type(iris_dataset['target_names'])))\n",
    "print(\"Type of 'DESCR' data: {}\".format(type(iris_dataset['DESCR'])))\n",
    "print(\"Type of 'feature_names' data: {}\".format(type(iris_dataset['feature_names'])))"
   ]
  },
  {
   "cell_type": "code",
   "execution_count": 213,
   "metadata": {},
   "outputs": [
    {
     "name": "stdout",
     "output_type": "stream",
     "text": [
      "Check the Iris Dataset Description for detailed info: \n",
      "\n",
      "Iris Plants Database\n",
      "====================\n",
      "\n",
      "Notes\n",
      "-----\n",
      "Data Set Characteristics:\n",
      "    :Number of Instances: 150 (50 in each of three classes)\n",
      "    :Number of Attributes: 4 numeric, predictive attributes and the class\n",
      "    :Attribute Information:\n",
      "        - sepal length in cm\n",
      "        - sepal width in cm\n",
      "        - petal length in cm\n",
      "        - petal width in cm\n",
      "        - class:\n",
      "                - Iris-Setosa\n",
      "                - Iris-Versicolour\n",
      "                - Iris-Virginica\n",
      "    :Summary Statistics:\n",
      "\n",
      "    ============== ==== ==== ======= ===== ====================\n",
      "                    Min  Max   Mean    SD   Class Correlation\n",
      "    ============== ==== ==== ======= ===== ====================\n",
      "    sepal length:   4.3  7.9   5.84   0.83    0.7826\n",
      "    sepal width:    2.0  4.4   3.05   0.43   -0.4194\n",
      "    petal length:   1.0  6.9   3.76   1.76    0.9490  (high!)\n",
      "    petal width:    0.1  2.5   1.20  0.76     0.9565  (high!)\n",
      "    ============== ==== ==== ======= ===== =========\n",
      "...\n"
     ]
    }
   ],
   "source": [
    "print('Check the Iris Dataset Description for detailed info: \\n')\n",
    "print(iris_dataset['DESCR'][:970] + \"\\n...\")"
   ]
  },
  {
   "cell_type": "markdown",
   "metadata": {},
   "source": [
    "### The \"raw data\" contains the information about the length and width of the petal and sepal."
   ]
  },
  {
   "cell_type": "code",
   "execution_count": 173,
   "metadata": {},
   "outputs": [
    {
     "name": "stdout",
     "output_type": "stream",
     "text": [
      "What does the raw data look like? \n",
      "\n",
      "The shape of raw data is: (150, 4)\n",
      "First five rows of data:\n",
      "[[5.1 3.5 1.4 0.2]\n",
      " [4.9 3.  1.4 0.2]\n",
      " [4.7 3.2 1.3 0.2]\n",
      " [4.6 3.1 1.5 0.2]\n",
      " [5.  3.6 1.4 0.2]]\n",
      "\n",
      "What does each column refer to? Check the feature_names.\n",
      "Feature names:\n",
      "['sepal length (cm)', 'sepal width (cm)', 'petal length (cm)', 'petal width (cm)']\n"
     ]
    }
   ],
   "source": [
    "# View the raw data.\n",
    "print('What does the raw data look like? \\n')\n",
    "print(\"The shape of raw data is: {}\".format(iris_dataset['data'].shape))\n",
    "print(\"First five rows of data:\\n{}\\n\".format(iris_dataset['data'][:5]))\n",
    "\n",
    "# Find out the feature names.\n",
    "print(\"What does each column refer to? Check the feature_names.\")\n",
    "print(\"Feature names:\\n{}\".format(iris_dataset['feature_names']))"
   ]
  },
  {
   "cell_type": "markdown",
   "metadata": {},
   "source": [
    "### The \"target data\" contains the information about the species of the irises."
   ]
  },
  {
   "cell_type": "code",
   "execution_count": 174,
   "metadata": {},
   "outputs": [
    {
     "name": "stdout",
     "output_type": "stream",
     "text": [
      "What does the target data look like?\n",
      "\n",
      "The Shape of the target data: (150,)\n",
      "The Target data:\n",
      "[0 0 0 0 0 0 0 0 0 0 0 0 0 0 0 0 0 0 0 0 0 0 0 0 0 0 0 0 0 0 0 0 0 0 0 0 0\n",
      " 0 0 0 0 0 0 0 0 0 0 0 0 0 1 1 1 1 1 1 1 1 1 1 1 1 1 1 1 1 1 1 1 1 1 1 1 1\n",
      " 1 1 1 1 1 1 1 1 1 1 1 1 1 1 1 1 1 1 1 1 1 1 1 1 1 1 2 2 2 2 2 2 2 2 2 2 2\n",
      " 2 2 2 2 2 2 2 2 2 2 2 2 2 2 2 2 2 2 2 2 2 2 2 2 2 2 2 2 2 2 2 2 2 2 2 2 2\n",
      " 2 2]\n",
      "\n",
      "Each row corresponds to one flower. Each flower has a type and so there is one target label for each row of data. \n",
      "\n",
      "What are the target names? ['setosa' 'versicolor' 'virginica']\n"
     ]
    }
   ],
   "source": [
    "# View the target data.\n",
    "print(\"What does the target data look like?\\n\")\n",
    "print(\"The Shape of the target data: {}\".format(iris_dataset['target'].shape))\n",
    "print(\"The Target data:\\n{}\\n\".format(iris_dataset['target']))\n",
    "\n",
    "# Find out the target names.\n",
    "print(\"Each row corresponds to one flower. Each flower has a type and so there is one target label for each row of data. \\n\")\n",
    "print(\"What are the target names? {}\".format(iris_dataset['target_names']))"
   ]
  },
  {
   "cell_type": "markdown",
   "metadata": {},
   "source": [
    "### Put the iris data in a pandas dataframe for easy data manipulation!"
   ]
  },
  {
   "cell_type": "code",
   "execution_count": 194,
   "metadata": {},
   "outputs": [
    {
     "data": {
      "text/html": [
       "<div>\n",
       "<style scoped>\n",
       "    .dataframe tbody tr th:only-of-type {\n",
       "        vertical-align: middle;\n",
       "    }\n",
       "\n",
       "    .dataframe tbody tr th {\n",
       "        vertical-align: top;\n",
       "    }\n",
       "\n",
       "    .dataframe thead th {\n",
       "        text-align: right;\n",
       "    }\n",
       "</style>\n",
       "<table border=\"1\" class=\"dataframe\">\n",
       "  <thead>\n",
       "    <tr style=\"text-align: right;\">\n",
       "      <th></th>\n",
       "      <th>sepal length (cm)</th>\n",
       "      <th>sepal width (cm)</th>\n",
       "      <th>petal length (cm)</th>\n",
       "      <th>petal width (cm)</th>\n",
       "    </tr>\n",
       "  </thead>\n",
       "  <tbody>\n",
       "    <tr>\n",
       "      <th>0</th>\n",
       "      <td>5.1</td>\n",
       "      <td>3.5</td>\n",
       "      <td>1.4</td>\n",
       "      <td>0.2</td>\n",
       "    </tr>\n",
       "    <tr>\n",
       "      <th>1</th>\n",
       "      <td>4.9</td>\n",
       "      <td>3.0</td>\n",
       "      <td>1.4</td>\n",
       "      <td>0.2</td>\n",
       "    </tr>\n",
       "    <tr>\n",
       "      <th>2</th>\n",
       "      <td>4.7</td>\n",
       "      <td>3.2</td>\n",
       "      <td>1.3</td>\n",
       "      <td>0.2</td>\n",
       "    </tr>\n",
       "    <tr>\n",
       "      <th>3</th>\n",
       "      <td>4.6</td>\n",
       "      <td>3.1</td>\n",
       "      <td>1.5</td>\n",
       "      <td>0.2</td>\n",
       "    </tr>\n",
       "    <tr>\n",
       "      <th>4</th>\n",
       "      <td>5.0</td>\n",
       "      <td>3.6</td>\n",
       "      <td>1.4</td>\n",
       "      <td>0.2</td>\n",
       "    </tr>\n",
       "  </tbody>\n",
       "</table>\n",
       "</div>"
      ],
      "text/plain": [
       "   sepal length (cm)  sepal width (cm)  petal length (cm)  petal width (cm)\n",
       "0                5.1               3.5                1.4               0.2\n",
       "1                4.9               3.0                1.4               0.2\n",
       "2                4.7               3.2                1.3               0.2\n",
       "3                4.6               3.1                1.5               0.2\n",
       "4                5.0               3.6                1.4               0.2"
      ]
     },
     "metadata": {},
     "output_type": "display_data"
    }
   ],
   "source": [
    "# create dataframe from the iris data\n",
    "# label the columns using the strings in iris_dataset.feature_names\n",
    "iris_dataframe = pd.DataFrame(iris_dataset['data'], columns=iris_dataset.feature_names)\n",
    "display(iris_dataframe.head())"
   ]
  },
  {
   "cell_type": "markdown",
   "metadata": {},
   "source": [
    "### Let's visualize our data to start to increase our understanding of what we're working with."
   ]
  },
  {
   "cell_type": "code",
   "execution_count": 195,
   "metadata": {},
   "outputs": [
    {
     "data": {
      "text/plain": [
       "Text(0,0.5,'petal length (cm)')"
      ]
     },
     "execution_count": 195,
     "metadata": {},
     "output_type": "execute_result"
    },
    {
     "data": {
      "image/png": "[encoded data removed]",
      "text/plain": [
       "<Figure size 432x288 with 1 Axes>"
      ]
     },
     "metadata": {},
     "output_type": "display_data"
    }
   ],
   "source": [
    "import matplotlib.pyplot as plt\n",
    "%matplotlib inline\n",
    "\n",
    "# Plot Sepal Length vs Petal Length\n",
    "plt.scatter(iris_dataframe['sepal length (cm)'], iris_dataframe['petal length (cm)'], c=iris_dataset['target'])\n",
    "plt.title(\"Petal Length vs Sepal Length\")\n",
    "plt.xlabel('sepal length (cm)')\n",
    "plt.ylabel('petal length (cm)')"
   ]
  },
  {
   "cell_type": "code",
   "execution_count": 196,
   "metadata": {},
   "outputs": [
    {
     "data": {
      "text/plain": [
       "Text(0,0.5,'petal width (cm)')"
      ]
     },
     "execution_count": 196,
     "metadata": {},
     "output_type": "execute_result"
    },
    {
     "data": {
      "image/png": "[encoded data removed]",
      "text/plain": [
       "<Figure size 432x288 with 1 Axes>"
      ]
     },
     "metadata": {},
     "output_type": "display_data"
    }
   ],
   "source": [
    "# Plot Sepal Width vs Petal Width\n",
    "plt.scatter(iris_dataframe['sepal width (cm)'], iris_dataframe['petal width (cm)'], c=iris_dataset['target'])\n",
    "plt.title(\"Petal Width vs Sepal Width\")\n",
    "plt.xlabel('sepal width (cm)')\n",
    "plt.ylabel('petal width (cm)')"
   ]
  },
  {
   "cell_type": "markdown",
   "metadata": {},
   "source": [
    "## Machine Learning Example: Classifying the Iris Dataset"
   ]
  },
  {
   "cell_type": "markdown",
   "metadata": {},
   "source": [
    "### Now that we're more familiar with our data. Let's see if we can build a classification model that can predicts the species of an iris based on its petal/sepal length/width."
   ]
  },
  {
   "cell_type": "markdown",
   "metadata": {},
   "source": [
    "## Splitting into a Train Set / Test Set"
   ]
  },
  {
   "cell_type": "markdown",
   "metadata": {},
   "source": [
    "We will need to give the algorithm some data to learn from. This will allow it to \"study\" the characteristics of the data in order to generate a predictive model. \n",
    "\n",
    "We also need a way to determine how well the predictive model is performing, meaning we need extra data to test the model with.\n",
    "However, we are limited in the amount of data we have. We could wait and collect more data later, then feed it into the model, see how it performs, but it's probably a lot easier to simply reserve a portion of the data that we already have and use it for testing instead because it's very a reasonable assumption that the data we have today is a realistic representation of the data we expect to have in the future. \n",
    "\n",
    "So, before we get started, it is a simple solution to partion the data into two sets: a training set and a test set. The training set has a single and essential role mentioned above: it provides the raw material from which the predictive model is generated, while the test set is used to evaluate the performance of the model after it's created."
   ]
  },
  {
   "cell_type": "code",
   "execution_count": 197,
   "metadata": {},
   "outputs": [
    {
     "name": "stdout",
     "output_type": "stream",
     "text": [
      "X_train shape: (112, 4)\n",
      "y_train shape: (112,)\n",
      "X_test shape: (38, 4)\n",
      "y_test shape: (38,)\n"
     ]
    }
   ],
   "source": [
    "# Build training set and test set\n",
    "from sklearn.model_selection import train_test_split\n",
    "X_train, X_test, y_train, y_test = train_test_split(iris_dataset['data'], iris_dataset['target'], random_state=0)\n",
    "\n",
    "# X refers to our iris data\n",
    "# y refers to our target data\n",
    "print(\"X_train shape: {}\".format(X_train.shape))\n",
    "print(\"y_train shape: {}\".format(y_train.shape))\n",
    "\n",
    "print(\"X_test shape: {}\".format(X_test.shape))\n",
    "print(\"y_test shape: {}\".format(y_test.shape))"
   ]
  },
  {
   "cell_type": "markdown",
   "metadata": {},
   "source": [
    "## Let's choose our classification algorithm: K Nearest Neighbors (KNN)\n",
    "\n",
    "### What is KNN? \n",
    "This example follows from https://www.analyticsvidhya.com/blog/2018/03/introduction-k-neighbours-algorithm-clustering/.\n",
    "\n",
    "How does the algorithm work? How does the input parameter effect the output/prediction? KNN can be used for both classification and regression predictive problems. However, it is more widely used in classification problems in the industry. \n",
    "\n",
    "The idea behind k-nearest neighbors is fairly simple, items are likely the same classification as those they are similar to in some way. Let’s look at a simple example to understand this algorithm. Below is a grouping of red circles (RC) and green squares (GS):\n",
    "\n",
    "<img src='knn_1.PNG',width=500,height=500>\n",
    "\n",
    "We want to decide what is the class of the blue star (BS). BS can either be RC or GS and nothing else. The “K” in KNN is a parameter. It is a parameter that indicates the number of the nearest neighbors we wish to take vote from. Let’s say K = 3. We want to find the 3 nearest neighbors of BS, which are circled in the image below:\n",
    "\n",
    "<img src='knn_2.PNG',width=500,height=500>\n",
    "\n",
    "We can see that the three closest points to BS are all RC. Therefore, in this case, we would label the class of BS as RC. While this example is very simplistic, it is often not this obvious, which makes the choice of the parameter K very crucial and influential over the results of this algorithm. There are different factors to be considered when choosing the parameter K and often, multiple values will be tested to understand its consequences.\n",
    "\n",
    "We can implement a KNN model by following the below steps:\n",
    "\n",
    "1. Load the data\n",
    "2. Initialise the value of k\n",
    "3. For getting the predicted class, iterate from 1 to total number of training data points\n",
    "    1. Calculate the distance between test data and each row of training data. Here we will use Euclidean distance as our distance metric since it’s the most popular method. The other metrics that can be used are Chebyshev, cosine, etc.\n",
    "    2. Sort the calculated distances in ascending order based on distance values\n",
    "    3. Get top k rows from the sorted array\n",
    "    4. Get the most frequent class of these rows\n",
    "    5. Return the predicted class"
   ]
  },
  {
   "cell_type": "code",
   "execution_count": 198,
   "metadata": {},
   "outputs": [
    {
     "data": {
      "text/plain": [
       "KNeighborsClassifier(algorithm='auto', leaf_size=30, metric='minkowski',\n",
       "           metric_params=None, n_jobs=1, n_neighbors=2, p=2,\n",
       "           weights='uniform')"
      ]
     },
     "execution_count": 198,
     "metadata": {},
     "output_type": "execute_result"
    }
   ],
   "source": [
    "# Lucky for us we don't have to implement the KNN algorithm from scratch. \n",
    "# These libraries have already done this for us!\n",
    "# Let's import it.\n",
    "from sklearn.neighbors import KNeighborsClassifier\n",
    "\n",
    "# Initalize a KNN classifier for k=2\n",
    "k = 2\n",
    "knn = KNeighborsClassifier(n_neighbors=k)\n",
    "\n",
    "# Fit the model using X as training data and y as target values\n",
    "knn.fit(X_train, y_train)"
   ]
  },
  {
   "cell_type": "markdown",
   "metadata": {},
   "source": [
    "### Let's see what it  looks like to make a prediction on one random example. Create a new random example of an iris flower and see if we can predict what species it would be."
   ]
  },
  {
   "cell_type": "code",
   "execution_count": 216,
   "metadata": {},
   "outputs": [
    {
     "name": "stdout",
     "output_type": "stream",
     "text": [
      "X_new.shape: (1, 4)\n",
      "X_new: [[5.  2.9 1.  0.2]]\n"
     ]
    },
    {
     "data": {
      "image/png": "[encoded data removed]",
      "text/plain": [
       "<Figure size 432x288 with 1 Axes>"
      ]
     },
     "metadata": {},
     "output_type": "display_data"
    },
    {
     "data": {
      "text/plain": [
       "Text(0,0.5,'petal width (cm)')"
      ]
     },
     "execution_count": 216,
     "metadata": {},
     "output_type": "execute_result"
    },
    {
     "data": {
      "image/png": "[encoded data removed]",
      "text/plain": [
       "<Figure size 432x288 with 1 Axes>"
      ]
     },
     "metadata": {},
     "output_type": "display_data"
    }
   ],
   "source": [
    "# Create a new example.\n",
    "# This example would have a sepal length of 5 cm, sepal width of 2.9 cm, petal length of 1 cm, and petal width of 0.2 cm.\n",
    "X_new = np.array([[5, 2.9, 1, 0.2]])\n",
    "print(\"X_new.shape: {}\".format(X_new.shape))\n",
    "print(\"X_new:\", X_new)\n",
    "\n",
    "# Plot Sepal Length vs Petal Length\n",
    "plt.scatter(iris_dataframe['sepal length (cm)'], iris_dataframe['petal length (cm)'], c=iris_dataset['target'])\n",
    "plt.title(\"Petal Length vs Sepal Length\")\n",
    "plt.xlabel('sepal length (cm)')\n",
    "plt.ylabel('petal length (cm)')\n",
    "plt.show()\n",
    "\n",
    "# Plot Sepal Width vs Petal Width\n",
    "plt.scatter(iris_dataframe['sepal width (cm)'], iris_dataframe['petal width (cm)'], c=iris_dataset['target'])\n",
    "plt.title(\"Petal Width vs Sepal Width\")\n",
    "plt.xlabel('sepal width (cm)')\n",
    "plt.ylabel('petal width (cm)')"
   ]
  },
  {
   "cell_type": "markdown",
   "metadata": {},
   "source": [
    "### Predict a response for our new example."
   ]
  },
  {
   "cell_type": "code",
   "execution_count": 200,
   "metadata": {},
   "outputs": [
    {
     "name": "stdout",
     "output_type": "stream",
     "text": [
      "Prediction Class: [0]\n",
      "Predicted target name: ['setosa']\n"
     ]
    }
   ],
   "source": [
    "# predict the response\n",
    "prediction = knn.predict(X_new)\n",
    "print(\"Prediction Class: {}\".format(prediction))\n",
    "print(\"Predicted target name: {}\".format(\n",
    "       iris_dataset['target_names'][prediction]))"
   ]
  },
  {
   "cell_type": "markdown",
   "metadata": {},
   "source": [
    "### Let's now make predictions on our entire test set and evaluate our accuracy."
   ]
  },
  {
   "cell_type": "code",
   "execution_count": 201,
   "metadata": {},
   "outputs": [
    {
     "name": "stdout",
     "output_type": "stream",
     "text": [
      "We have 38 test examples.\n",
      "The test set predictions:\n",
      " [2 1 0 2 0 2 0 1 1 1 2 1 1 1 1 0 1 1 0 0 2 1 0 0 2 0 0 1 1 0 2 1 0 2 2 1 0\n",
      " 2]\n",
      "The actual test set target values are:\n",
      "[2 1 0 2 0 2 0 1 1 1 2 1 1 1 1 0 1 1 0 0 2 1 0 0 2 0 0 1 1 0 2 1 0 2 2 1 0\n",
      " 1]\n"
     ]
    }
   ],
   "source": [
    "y_pred = knn.predict(X_test)\n",
    "print(\"We have {} test examples.\".format(X_test.shape[0]))\n",
    "print(\"The test set predictions:\\n {}\".format(y_pred))\n",
    "print(\"The actual test set target values are:\\n{}\".format(y_test))"
   ]
  },
  {
   "cell_type": "markdown",
   "metadata": {},
   "source": [
    "### Let's evaluate the accuracy."
   ]
  },
  {
   "cell_type": "code",
   "execution_count": 217,
   "metadata": {},
   "outputs": [
    {
     "name": "stdout",
     "output_type": "stream",
     "text": [
      "How many of the predictions are the same as the actual values?? How many are different??\n",
      "[ True  True  True  True  True  True  True  True  True  True  True  True\n",
      "  True  True  True  True  True  True  True  True  True  True  True  True\n",
      "  True  True  True  True  True  True  True  True  True  True  True  True\n",
      "  True False]\n",
      "You can see above that 1 prediction(s) is/are incorrect.\n"
     ]
    }
   ],
   "source": [
    "print(\"How many of the predictions are the same as the actual values?? How many are different??\")\n",
    "print(y_pred == y_test)\n",
    "\n",
    "num_diff = len(y_pred) - (y_pred == y_test).sum()\n",
    "\n",
    "print('You can see above that {} prediction(s) is/are incorrect.'.format(num_diff))"
   ]
  },
  {
   "cell_type": "markdown",
   "metadata": {},
   "source": [
    "### Use knn.score to evaluate accuracy."
   ]
  },
  {
   "cell_type": "code",
   "execution_count": 218,
   "metadata": {},
   "outputs": [
    {
     "name": "stdout",
     "output_type": "stream",
     "text": [
      "Test set score: 0.97\n"
     ]
    }
   ],
   "source": [
    "# Returns the mean accuracy on the given test data and labels.\n",
    "print(\"Test set score: {:.2f}\".format(knn.score(X_test, y_test)))"
   ]
  },
  {
   "cell_type": "markdown",
   "metadata": {},
   "source": [
    "## Machine Learning Example: Movie Review Classification (NLP)\n",
    "\n",
    "This example leverages the Document Classification activity from Chapter 6 of Natural Language Processing with Python: https://www.nltk.org/book/ch06.html. There are many other exercises in the book we recommend."
   ]
  },
  {
   "cell_type": "markdown",
   "metadata": {},
   "source": [
    " As with sklearn, nltk also provides some example datasets in its corpus.  One such example is a list of movie reviews."
   ]
  },
  {
   "cell_type": "code",
   "execution_count": null,
   "metadata": {},
   "outputs": [],
   "source": [
    "# Load the movie_reviews.\n",
    "from nltk.corpus import movie_reviews"
   ]
  },
  {
   "cell_type": "markdown",
   "metadata": {},
   "source": [
    "Let's store our movie reviews in a list. Each element of the list will store information about one review. We will have the review itself and also its corresponding category (either positive or negative)."
   ]
  },
  {
   "cell_type": "code",
   "execution_count": null,
   "metadata": {},
   "outputs": [],
   "source": [
    "# Create a list of tuples where each tuple contains (the movie review, its corresponding category)\n",
    "documents = [(list(movie_reviews.words(fileid)), category) \\\n",
    "             for category in movie_reviews.categories() for fileid in movie_reviews.fileids(category)]"
   ]
  },
  {
   "cell_type": "markdown",
   "metadata": {},
   "source": [
    "Lets look at the first two examples of our reviews."
   ]
  },
  {
   "cell_type": "code",
   "execution_count": null,
   "metadata": {},
   "outputs": [],
   "source": [
    "# Example review 1\n",
    "print(\"Let's look at our first review.\")\n",
    "print('The classification of this review is: {}'.format(documents[1][1]))\n",
    "print('The Review Text:\\n{}...'.format(\" \".join(documents[1][0][:100])))\n",
    "print('--------------------------------')\n",
    "print('\\n')\n",
    "\n",
    "# Example review 2\n",
    "print(\"Let's look at our second review.\")\n",
    "print('The classification of this review is: {}'.format(documents[2][1]))\n",
    "print('The Review Text:\\n{}...'.format(\" \".join(documents[2][0][:100])))\n",
    "print('--------------------------------')"
   ]
  },
  {
   "cell_type": "markdown",
   "metadata": {},
   "source": [
    "The main idea here is to look at which words are contained in the review text and see if we can use that information to help us decide which class the review belongs to. For example, maybe if the review contains the word \"amazing\" 300 times, then the review is positive. What are the steps we need to take to accomplish this?\n",
    "    - Make a list of all the words in the entire corpus. \n",
    "    - Count how many times each word appears in the corpus.\n",
    "    - Sort the list from most frequently used word to least frequently used.\n",
    "    - Select the top 2000 words.\n",
    "    - For each document, count how many times each of these 2000 words appears.\n",
    "        - Right now, each review is a series of sentences that we parse into meaningful messages as we read them. The machine cannot do this. It can't read in the same sense that we can. Instead, we'll get the machine to represent each document as a list of the words contained in the review as well as the frequency of each word. \n",
    "    - Separate the reviews into test set and train set.\n",
    "    - Train/fit a Naive Bayes Classifier.\n",
    "    - Test the model's accuracy. "
   ]
  },
  {
   "cell_type": "code",
   "execution_count": null,
   "metadata": {},
   "outputs": [],
   "source": [
    "# import random\n",
    "# random.shuffle(documents)\n",
    "\n",
    "import nltk\n",
    "\n",
    "# Create a frequency dictionary with all the words \n",
    "all_words = nltk.FreqDist(w.lower() for w in movie_reviews.words())\n",
    "\n",
    "# Take the top 2000 most frequent words.\n",
    "word_features = list(all_words)[:2000]\n",
    "\n",
    "# Function to determine words in one specific review.\n",
    "def document_features(document):\n",
    "    document_words = set(document)\n",
    "    features = {}\n",
    "    for word in word_features:\n",
    "        features['contains({})'.format(word)] = (word in document_words)\n",
    "    return features\n",
    "\n",
    "# Create the review representations for each review.\n",
    "featuresets = [(document_features(d), c) for (d,c) in documents]"
   ]
  },
  {
   "cell_type": "markdown",
   "metadata": {},
   "source": [
    "simple explanation here: http://blog.aylien.com/naive-bayes-for-dummies-a-simple-explanation/\n",
    "\n",
    "A classifier based on the Naive Bayes algorithm.  In order to find the\n",
    "probability for a label, this algorithm first uses the Bayes rule to\n",
    "express P(label|features) in terms of P(label) and P(features|label):\n",
    "\n",
    "\\begin{equation*}\n",
    "P(\\text{label | features}) = \\frac{\\text{P(label)}*\\text{P(features | label)}}{\\text{P(features)}}\n",
    "\\end{equation*}\n",
    "\n",
    "The algorithm then makes the 'naive' assumption that all features are\n",
    "independent, given the label:\n",
    "\n",
    "\\begin{equation*}\n",
    "P(\\text{label | features}) = \\frac{\\text{P(label)}*P(f_1\\text{| label)}*...*P(f_n\\text{| label})}{\\text{P(features)}}\n",
    "\\end{equation*}\n",
    "\n",
    "Rather than computing P(features) explicitly, the algorithm just\n",
    "calculates the numerator for each label, and normalizes them so they\n",
    "sum to one:\n",
    "\n",
    "\\begin{equation*}\n",
    "P(\\text{label | features}) = \\frac{\\text{P(label)}*P(f_1\\text{| label)}*...*P(f_n\\text{| label})}\n",
    "{\\sum_{l} P(l)*P(f_1|l)*...*P(f_n|l)}\n",
    "\\end{equation*}\n"
   ]
  },
  {
   "cell_type": "code",
   "execution_count": null,
   "metadata": {},
   "outputs": [],
   "source": [
    "# Split the reviews into a training set and a test set.\n",
    "train_set, test_set = featuresets[100:], featuresets[:100]\n",
    "\n",
    "# Initalize and train our Naive Bayes Classifier. (Documentation at https://www.nltk.org/_modules/nltk/classify/naivebayes.html)\n",
    "classifier = nltk.NaiveBayesClassifier.train(train_set)\n",
    "\n",
    "# Evaluate the accuracy of the classifer on the test set.\n",
    "print(nltk.classify.accuracy(classifier, test_set))"
   ]
  },
  {
   "cell_type": "code",
   "execution_count": null,
   "metadata": {
    "scrolled": true
   },
   "outputs": [],
   "source": [
    "# Let's take a look at one example:\n",
    "review_features, classification = test_set[0]\n",
    "\n",
    "print('The classification of this example review is: {}.'.format(classification))\n",
    "for feature in list(review_features.keys())[:10]:\n",
    "    print(feature, review_features[feature])"
   ]
  },
  {
   "cell_type": "code",
   "execution_count": null,
   "metadata": {},
   "outputs": [],
   "source": [
    "# TODO: show results on one test example\n"
   ]
  },
  {
   "cell_type": "markdown",
   "metadata": {},
   "source": [
    "What this tells you is the ratio of occurences in negative to positive, or visa versa, for every word. So here, we can see that the term \"recognizes\" appears 8.1 more times as often in positive reviews as it does in negative reviews. \"Unimaginative\" appears 7.8 more times as often in negative reviews as it does in positive reviews."
   ]
  },
  {
   "cell_type": "code",
   "execution_count": null,
   "metadata": {},
   "outputs": [],
   "source": [
    "# Determine the most relevant features, and display them.\n",
    "classifier.show_most_informative_features(20)"
   ]
  },
  {
   "cell_type": "code",
   "execution_count": null,
   "metadata": {},
   "outputs": [],
   "source": []
  }
 ],
 "metadata": {
  "kernelspec": {
   "display_name": "Python 3",
   "language": "python",
   "name": "python3"
  },
  "language_info": {
   "codemirror_mode": {
    "name": "ipython",
    "version": 3
   },
   "file_extension": ".py",
   "mimetype": "text/x-python",
   "name": "python",
   "nbconvert_exporter": "python",
   "pygments_lexer": "ipython3",
   "version": "3.6.3"
  }
 },
 "nbformat": 4,
 "nbformat_minor": 2
}
